{
 "cells": [
  {
   "cell_type": "code",
   "execution_count": 82,
   "metadata": {
    "id": "9pvdxeTuY6gB"
   },
   "outputs": [],
   "source": [
    "import numpy as np\n",
    "import pandas as pd\n",
    "import seaborn as sns\n",
    "import string\n",
    "import pprint\n",
    "\n",
    "import matplotlib.pyplot as plt\n",
    "%matplotlib inline\n",
    "\n",
    "# For lemmatisation\n",
    "import spacy          \n",
    "import nltk\n",
    "\n",
    "# gensim for LDA \n",
    "import gensim\n",
    "import gensim.corpora as corpora\n",
    "from gensim.utils import simple_preprocess\n",
    "from gensim.models import CoherenceModel\n",
    "\n",
    "\n"
   ]
  },
  {
   "cell_type": "code",
   "execution_count": 83,
   "metadata": {
    "colab": {
     "base_uri": "https://localhost:8080/",
     "height": 525
    },
    "id": "WrsGqNyPZeQe",
    "outputId": "7020a567-735a-4e9b-fc71-2f0adbe286e0"
   },
   "outputs": [
    {
     "data": {
      "text/html": [
       "\n",
       "  <div id=\"df-b5d28696-4c9e-47e1-918c-70ab8db16e3e\">\n",
       "    <div class=\"colab-df-container\">\n",
       "      <div>\n",
       "<style scoped>\n",
       "    .dataframe tbody tr th:only-of-type {\n",
       "        vertical-align: middle;\n",
       "    }\n",
       "\n",
       "    .dataframe tbody tr th {\n",
       "        vertical-align: top;\n",
       "    }\n",
       "\n",
       "    .dataframe thead th {\n",
       "        text-align: right;\n",
       "    }\n",
       "</style>\n",
       "<table border=\"1\" class=\"dataframe\">\n",
       "  <thead>\n",
       "    <tr style=\"text-align: right;\">\n",
       "      <th></th>\n",
       "      <th>id</th>\n",
       "      <th>asins</th>\n",
       "      <th>brand</th>\n",
       "      <th>categories</th>\n",
       "      <th>colors</th>\n",
       "      <th>dateAdded</th>\n",
       "      <th>dateUpdated</th>\n",
       "      <th>dimension</th>\n",
       "      <th>ean</th>\n",
       "      <th>keys</th>\n",
       "      <th>...</th>\n",
       "      <th>reviews.rating</th>\n",
       "      <th>reviews.sourceURLs</th>\n",
       "      <th>reviews.text</th>\n",
       "      <th>reviews.title</th>\n",
       "      <th>reviews.userCity</th>\n",
       "      <th>reviews.userProvince</th>\n",
       "      <th>reviews.username</th>\n",
       "      <th>sizes</th>\n",
       "      <th>upc</th>\n",
       "      <th>weight</th>\n",
       "    </tr>\n",
       "  </thead>\n",
       "  <tbody>\n",
       "    <tr>\n",
       "      <th>0</th>\n",
       "      <td>AVpe7AsMilAPnD_xQ78G</td>\n",
       "      <td>B00QJDU3KY</td>\n",
       "      <td>Amazon</td>\n",
       "      <td>Amazon Devices,mazon.co.uk</td>\n",
       "      <td>NaN</td>\n",
       "      <td>2016-03-08T20:21:53Z</td>\n",
       "      <td>2017-07-18T23:52:58Z</td>\n",
       "      <td>169 mm x 117 mm x 9.1 mm</td>\n",
       "      <td>NaN</td>\n",
       "      <td>kindlepaperwhite/b00qjdu3ky</td>\n",
       "      <td>...</td>\n",
       "      <td>5.0</td>\n",
       "      <td>https://www.amazon.com/Kindle-Paperwhite-High-...</td>\n",
       "      <td>I initially had trouble deciding between the p...</td>\n",
       "      <td>Paperwhite voyage, no regrets!</td>\n",
       "      <td>NaN</td>\n",
       "      <td>NaN</td>\n",
       "      <td>Cristina M</td>\n",
       "      <td>NaN</td>\n",
       "      <td>NaN</td>\n",
       "      <td>205 grams</td>\n",
       "    </tr>\n",
       "    <tr>\n",
       "      <th>1</th>\n",
       "      <td>AVpe7AsMilAPnD_xQ78G</td>\n",
       "      <td>B00QJDU3KY</td>\n",
       "      <td>Amazon</td>\n",
       "      <td>Amazon Devices,mazon.co.uk</td>\n",
       "      <td>NaN</td>\n",
       "      <td>2016-03-08T20:21:53Z</td>\n",
       "      <td>2017-07-18T23:52:58Z</td>\n",
       "      <td>169 mm x 117 mm x 9.1 mm</td>\n",
       "      <td>NaN</td>\n",
       "      <td>kindlepaperwhite/b00qjdu3ky</td>\n",
       "      <td>...</td>\n",
       "      <td>5.0</td>\n",
       "      <td>https://www.amazon.com/Kindle-Paperwhite-High-...</td>\n",
       "      <td>Allow me to preface this with a little history...</td>\n",
       "      <td>One Simply Could Not Ask For More</td>\n",
       "      <td>NaN</td>\n",
       "      <td>NaN</td>\n",
       "      <td>Ricky</td>\n",
       "      <td>NaN</td>\n",
       "      <td>NaN</td>\n",
       "      <td>205 grams</td>\n",
       "    </tr>\n",
       "    <tr>\n",
       "      <th>2</th>\n",
       "      <td>AVpe7AsMilAPnD_xQ78G</td>\n",
       "      <td>B00QJDU3KY</td>\n",
       "      <td>Amazon</td>\n",
       "      <td>Amazon Devices,mazon.co.uk</td>\n",
       "      <td>NaN</td>\n",
       "      <td>2016-03-08T20:21:53Z</td>\n",
       "      <td>2017-07-18T23:52:58Z</td>\n",
       "      <td>169 mm x 117 mm x 9.1 mm</td>\n",
       "      <td>NaN</td>\n",
       "      <td>kindlepaperwhite/b00qjdu3ky</td>\n",
       "      <td>...</td>\n",
       "      <td>4.0</td>\n",
       "      <td>https://www.amazon.com/Kindle-Paperwhite-High-...</td>\n",
       "      <td>I am enjoying it so far. Great for reading. Ha...</td>\n",
       "      <td>Great for those that just want an e-reader</td>\n",
       "      <td>NaN</td>\n",
       "      <td>NaN</td>\n",
       "      <td>Tedd Gardiner</td>\n",
       "      <td>NaN</td>\n",
       "      <td>NaN</td>\n",
       "      <td>205 grams</td>\n",
       "    </tr>\n",
       "    <tr>\n",
       "      <th>3</th>\n",
       "      <td>AVpe7AsMilAPnD_xQ78G</td>\n",
       "      <td>B00QJDU3KY</td>\n",
       "      <td>Amazon</td>\n",
       "      <td>Amazon Devices,mazon.co.uk</td>\n",
       "      <td>NaN</td>\n",
       "      <td>2016-03-08T20:21:53Z</td>\n",
       "      <td>2017-07-18T23:52:58Z</td>\n",
       "      <td>169 mm x 117 mm x 9.1 mm</td>\n",
       "      <td>NaN</td>\n",
       "      <td>kindlepaperwhite/b00qjdu3ky</td>\n",
       "      <td>...</td>\n",
       "      <td>5.0</td>\n",
       "      <td>https://www.amazon.com/Kindle-Paperwhite-High-...</td>\n",
       "      <td>I bought one of the first Paperwhites and have...</td>\n",
       "      <td>Love / Hate relationship</td>\n",
       "      <td>NaN</td>\n",
       "      <td>NaN</td>\n",
       "      <td>Dougal</td>\n",
       "      <td>NaN</td>\n",
       "      <td>NaN</td>\n",
       "      <td>205 grams</td>\n",
       "    </tr>\n",
       "    <tr>\n",
       "      <th>4</th>\n",
       "      <td>AVpe7AsMilAPnD_xQ78G</td>\n",
       "      <td>B00QJDU3KY</td>\n",
       "      <td>Amazon</td>\n",
       "      <td>Amazon Devices,mazon.co.uk</td>\n",
       "      <td>NaN</td>\n",
       "      <td>2016-03-08T20:21:53Z</td>\n",
       "      <td>2017-07-18T23:52:58Z</td>\n",
       "      <td>169 mm x 117 mm x 9.1 mm</td>\n",
       "      <td>NaN</td>\n",
       "      <td>kindlepaperwhite/b00qjdu3ky</td>\n",
       "      <td>...</td>\n",
       "      <td>5.0</td>\n",
       "      <td>https://www.amazon.com/Kindle-Paperwhite-High-...</td>\n",
       "      <td>I have to say upfront - I don't like coroporat...</td>\n",
       "      <td>I LOVE IT</td>\n",
       "      <td>NaN</td>\n",
       "      <td>NaN</td>\n",
       "      <td>Miljan David Tanic</td>\n",
       "      <td>NaN</td>\n",
       "      <td>NaN</td>\n",
       "      <td>205 grams</td>\n",
       "    </tr>\n",
       "  </tbody>\n",
       "</table>\n",
       "<p>5 rows × 27 columns</p>\n",
       "</div>\n",
       "      <button class=\"colab-df-convert\" onclick=\"convertToInteractive('df-b5d28696-4c9e-47e1-918c-70ab8db16e3e')\"\n",
       "              title=\"Convert this dataframe to an interactive table.\"\n",
       "              style=\"display:none;\">\n",
       "        \n",
       "  <svg xmlns=\"http://www.w3.org/2000/svg\" height=\"24px\"viewBox=\"0 0 24 24\"\n",
       "       width=\"24px\">\n",
       "    <path d=\"M0 0h24v24H0V0z\" fill=\"none\"/>\n",
       "    <path d=\"M18.56 5.44l.94 2.06.94-2.06 2.06-.94-2.06-.94-.94-2.06-.94 2.06-2.06.94zm-11 1L8.5 8.5l.94-2.06 2.06-.94-2.06-.94L8.5 2.5l-.94 2.06-2.06.94zm10 10l.94 2.06.94-2.06 2.06-.94-2.06-.94-.94-2.06-.94 2.06-2.06.94z\"/><path d=\"M17.41 7.96l-1.37-1.37c-.4-.4-.92-.59-1.43-.59-.52 0-1.04.2-1.43.59L10.3 9.45l-7.72 7.72c-.78.78-.78 2.05 0 2.83L4 21.41c.39.39.9.59 1.41.59.51 0 1.02-.2 1.41-.59l7.78-7.78 2.81-2.81c.8-.78.8-2.07 0-2.86zM5.41 20L4 18.59l7.72-7.72 1.47 1.35L5.41 20z\"/>\n",
       "  </svg>\n",
       "      </button>\n",
       "      \n",
       "  <style>\n",
       "    .colab-df-container {\n",
       "      display:flex;\n",
       "      flex-wrap:wrap;\n",
       "      gap: 12px;\n",
       "    }\n",
       "\n",
       "    .colab-df-convert {\n",
       "      background-color: #E8F0FE;\n",
       "      border: none;\n",
       "      border-radius: 50%;\n",
       "      cursor: pointer;\n",
       "      display: none;\n",
       "      fill: #1967D2;\n",
       "      height: 32px;\n",
       "      padding: 0 0 0 0;\n",
       "      width: 32px;\n",
       "    }\n",
       "\n",
       "    .colab-df-convert:hover {\n",
       "      background-color: #E2EBFA;\n",
       "      box-shadow: 0px 1px 2px rgba(60, 64, 67, 0.3), 0px 1px 3px 1px rgba(60, 64, 67, 0.15);\n",
       "      fill: #174EA6;\n",
       "    }\n",
       "\n",
       "    [theme=dark] .colab-df-convert {\n",
       "      background-color: #3B4455;\n",
       "      fill: #D2E3FC;\n",
       "    }\n",
       "\n",
       "    [theme=dark] .colab-df-convert:hover {\n",
       "      background-color: #434B5C;\n",
       "      box-shadow: 0px 1px 3px 1px rgba(0, 0, 0, 0.15);\n",
       "      filter: drop-shadow(0px 1px 2px rgba(0, 0, 0, 0.3));\n",
       "      fill: #FFFFFF;\n",
       "    }\n",
       "  </style>\n",
       "\n",
       "      <script>\n",
       "        const buttonEl =\n",
       "          document.querySelector('#df-b5d28696-4c9e-47e1-918c-70ab8db16e3e button.colab-df-convert');\n",
       "        buttonEl.style.display =\n",
       "          google.colab.kernel.accessAllowed ? 'block' : 'none';\n",
       "\n",
       "        async function convertToInteractive(key) {\n",
       "          const element = document.querySelector('#df-b5d28696-4c9e-47e1-918c-70ab8db16e3e');\n",
       "          const dataTable =\n",
       "            await google.colab.kernel.invokeFunction('convertToInteractive',\n",
       "                                                     [key], {});\n",
       "          if (!dataTable) return;\n",
       "\n",
       "          const docLinkHtml = 'Like what you see? Visit the ' +\n",
       "            '<a target=\"_blank\" href=https://colab.research.google.com/notebooks/data_table.ipynb>data table notebook</a>'\n",
       "            + ' to learn more about interactive tables.';\n",
       "          element.innerHTML = '';\n",
       "          dataTable['output_type'] = 'display_data';\n",
       "          await google.colab.output.renderOutput(dataTable, element);\n",
       "          const docLink = document.createElement('div');\n",
       "          docLink.innerHTML = docLinkHtml;\n",
       "          element.appendChild(docLink);\n",
       "        }\n",
       "      </script>\n",
       "    </div>\n",
       "  </div>\n",
       "  "
      ],
      "text/plain": [
       "                     id       asins   brand                  categories  \\\n",
       "0  AVpe7AsMilAPnD_xQ78G  B00QJDU3KY  Amazon  Amazon Devices,mazon.co.uk   \n",
       "1  AVpe7AsMilAPnD_xQ78G  B00QJDU3KY  Amazon  Amazon Devices,mazon.co.uk   \n",
       "2  AVpe7AsMilAPnD_xQ78G  B00QJDU3KY  Amazon  Amazon Devices,mazon.co.uk   \n",
       "3  AVpe7AsMilAPnD_xQ78G  B00QJDU3KY  Amazon  Amazon Devices,mazon.co.uk   \n",
       "4  AVpe7AsMilAPnD_xQ78G  B00QJDU3KY  Amazon  Amazon Devices,mazon.co.uk   \n",
       "\n",
       "  colors             dateAdded           dateUpdated  \\\n",
       "0    NaN  2016-03-08T20:21:53Z  2017-07-18T23:52:58Z   \n",
       "1    NaN  2016-03-08T20:21:53Z  2017-07-18T23:52:58Z   \n",
       "2    NaN  2016-03-08T20:21:53Z  2017-07-18T23:52:58Z   \n",
       "3    NaN  2016-03-08T20:21:53Z  2017-07-18T23:52:58Z   \n",
       "4    NaN  2016-03-08T20:21:53Z  2017-07-18T23:52:58Z   \n",
       "\n",
       "                  dimension  ean                         keys  ...  \\\n",
       "0  169 mm x 117 mm x 9.1 mm  NaN  kindlepaperwhite/b00qjdu3ky  ...   \n",
       "1  169 mm x 117 mm x 9.1 mm  NaN  kindlepaperwhite/b00qjdu3ky  ...   \n",
       "2  169 mm x 117 mm x 9.1 mm  NaN  kindlepaperwhite/b00qjdu3ky  ...   \n",
       "3  169 mm x 117 mm x 9.1 mm  NaN  kindlepaperwhite/b00qjdu3ky  ...   \n",
       "4  169 mm x 117 mm x 9.1 mm  NaN  kindlepaperwhite/b00qjdu3ky  ...   \n",
       "\n",
       "  reviews.rating                                 reviews.sourceURLs  \\\n",
       "0            5.0  https://www.amazon.com/Kindle-Paperwhite-High-...   \n",
       "1            5.0  https://www.amazon.com/Kindle-Paperwhite-High-...   \n",
       "2            4.0  https://www.amazon.com/Kindle-Paperwhite-High-...   \n",
       "3            5.0  https://www.amazon.com/Kindle-Paperwhite-High-...   \n",
       "4            5.0  https://www.amazon.com/Kindle-Paperwhite-High-...   \n",
       "\n",
       "                                        reviews.text  \\\n",
       "0  I initially had trouble deciding between the p...   \n",
       "1  Allow me to preface this with a little history...   \n",
       "2  I am enjoying it so far. Great for reading. Ha...   \n",
       "3  I bought one of the first Paperwhites and have...   \n",
       "4  I have to say upfront - I don't like coroporat...   \n",
       "\n",
       "                                reviews.title reviews.userCity  \\\n",
       "0              Paperwhite voyage, no regrets!              NaN   \n",
       "1           One Simply Could Not Ask For More              NaN   \n",
       "2  Great for those that just want an e-reader              NaN   \n",
       "3                    Love / Hate relationship              NaN   \n",
       "4                                   I LOVE IT              NaN   \n",
       "\n",
       "  reviews.userProvince    reviews.username  sizes upc     weight  \n",
       "0                  NaN          Cristina M    NaN NaN  205 grams  \n",
       "1                  NaN               Ricky    NaN NaN  205 grams  \n",
       "2                  NaN       Tedd Gardiner    NaN NaN  205 grams  \n",
       "3                  NaN              Dougal    NaN NaN  205 grams  \n",
       "4                  NaN  Miljan David Tanic    NaN NaN  205 grams  \n",
       "\n",
       "[5 rows x 27 columns]"
      ]
     },
     "execution_count": 83,
     "metadata": {},
     "output_type": "execute_result"
    }
   ],
   "source": [
    "df = pd.read_csv('/content/Product Review Data.csv')\n",
    "#df.dropna(axis=0, inplace=True)\n",
    "#df=df.dropna().reset_index(drop=True)\n",
    "df['reviews.rating'] = df['reviews.rating'].fillna(0)\n",
    "df.head()"
   ]
  },
  {
   "cell_type": "code",
   "execution_count": 84,
   "metadata": {
    "colab": {
     "base_uri": "https://localhost:8080/"
    },
    "id": "OJSqCBsSLE9g",
    "outputId": "f630edb3-ae0b-45b1-8099-8d6a143e8e9b"
   },
   "outputs": [
    {
     "data": {
      "text/plain": [
       "True"
      ]
     },
     "execution_count": 84,
     "metadata": {},
     "output_type": "execute_result"
    }
   ],
   "source": [
    "df.isnull().values.any()\n"
   ]
  },
  {
   "cell_type": "code",
   "execution_count": 85,
   "metadata": {
    "colab": {
     "base_uri": "https://localhost:8080/"
    },
    "id": "KKYPONmuLX6o",
    "outputId": "ab5a55da-2da1-4db1-c360-826589225f29"
   },
   "outputs": [
    {
     "data": {
      "text/plain": [
       "id                      False\n",
       "asins                   False\n",
       "brand                   False\n",
       "categories              False\n",
       "colors                   True\n",
       "dateAdded               False\n",
       "dateUpdated             False\n",
       "dimension                True\n",
       "ean                      True\n",
       "keys                    False\n",
       "manufacturer             True\n",
       "manufacturerNumber       True\n",
       "name                    False\n",
       "prices                  False\n",
       "reviews.date             True\n",
       "reviews.doRecommend      True\n",
       "reviews.numHelpful       True\n",
       "reviews.rating          False\n",
       "reviews.sourceURLs      False\n",
       "reviews.text            False\n",
       "reviews.title            True\n",
       "reviews.userCity         True\n",
       "reviews.userProvince     True\n",
       "reviews.username         True\n",
       "sizes                    True\n",
       "upc                      True\n",
       "weight                   True\n",
       "dtype: bool"
      ]
     },
     "execution_count": 85,
     "metadata": {},
     "output_type": "execute_result"
    }
   ],
   "source": [
    "df.isna().any()"
   ]
  },
  {
   "cell_type": "code",
   "execution_count": 86,
   "metadata": {
    "colab": {
     "base_uri": "https://localhost:8080/"
    },
    "id": "nEdq3l4FbciR",
    "outputId": "098d27ed-449e-4fdd-d7b6-2dc9b54d3b24"
   },
   "outputs": [
    {
     "name": "stdout",
     "output_type": "stream",
     "text": [
      "(1597, 27)\n"
     ]
    }
   ],
   "source": [
    "print(df.shape)"
   ]
  },
  {
   "cell_type": "code",
   "execution_count": 87,
   "metadata": {
    "id": "jSTwt_6GkIMV"
   },
   "outputs": [],
   "source": [
    "# tokenize using gensim simple_preprocess\n",
    "def sent_to_words(sentences, deacc=True): # deacc=True removes punctuations\n",
    "    for sentence in sentences:\n",
    "        yield(gensim.utils.simple_preprocess(str(sentence)))  \n",
    "\n",
    "# to list\n",
    "data = df['reviews.text'].values.tolist()\n",
    "data_words = list(sent_to_words(data))"
   ]
  },
  {
   "cell_type": "code",
   "execution_count": 88,
   "metadata": {
    "colab": {
     "base_uri": "https://localhost:8080/"
    },
    "id": "jkb4h5qOkKUk",
    "outputId": "b03f5755-0c10-42c7-c1b5-ab00460906b8"
   },
   "outputs": [
    {
     "name": "stdout",
     "output_type": "stream",
     "text": [
      "['have', 'to', 'say', 'upfront', 'don', 'like', 'coroporate', 'hermetically', 'closed', 'stuff', 'like', 'anything', 'by', 'apple', 'or', 'in', 'this', 'case', 'amazon', 'like', 'having', 'devices', 'on', 'which', 'can', 'put', 'anything', 'want', 'and', 'use', 'it', 'but', 'was', 'fairly', 'happy', 'user', 'of', 'nook', 'touch', 'for', 'several', 'years', 'but', 'couldn', 'use', 'all', 'its', 'functionalities', 'since', 'live', 'in', 'serbia', 'then', 'lost', 'the', 'nook', 'and', 'since', 'no', 'other', 'devices', 'can', 'actually', 'be', 'fully', 'used', 'in', 'serbia', 'buying', 'books', 'with', 'them', 'using', 'their', 'online', 'capabilities', 'except', 'the', 'kindle', 'and', 'since', 'no', 'one', 'except', 'amazon', 'ships', 'to', 'serbia', 'and', 'since', 've', 'actually', 'been', 'happy', 'amazon', 'customer', 'since', 'over', 'friends', 'accounts', 'and', 'since', 'through', 'my', 'own', 'and', 'since', 'the', 'kindle', 'definitely', 'has', 'the', 'best', 'technology', 'why', 'not', 'buy', 'itso', 'did', 'what', 'read', 'in', 'many', 'reviews', 'about', 'the', 'screen', 'light', 'of', 'the', 'paperwhite', 'and', 'similar', 'devices', 'was', 'no', 'problem', 'with', 'mine', 'the', 'light', 'disperses', 'just', 'fine', 'except', 'few', 'black', 'blotches', 'maybe', 'you', 'can', 'see', 'it', 'in', 'the', 'picture', 'at', 'the', 'bottom', 'of', 'the', 'screen', 'which', 'are', 'actually', 'shadows', 'of', 'the', 'black', 'plastic', 'casing', 'and', 'thus', 'can', 'really', 'be', 'avoided', 'as', 'you', 'can', 'see', 'in', 'the', 'picture', 'without', 'the', 'light', 'there', 'are', 'no', 'blotches', 'with', 'light', 'out', 'the', 'paperwhite', 'screen', 'is', 'just', 'marvelous', 'at', 'ppi', 'the', 'touchscreen', 'works', 'just', 'fine', 'the', 'store', 'works', 'here', 'in', 'serbia', 'and', 'in', 'these', 'two', 'days', 've', 'been', 'using', 'it', 'happy', 'guy', 'had', 'to', 'get', 'the', 'hang', 'on', 'how', 'to', 'make', 'sideloaded', 'books', 'behave', 'at', 'least', 'almost', 'like', 'amazon', 'books', 'but', 'that', 'fine', 'that', 'the', 'one', 'thing', 'like', 'to', 'see', 'amazon', 'do', 'in', 'some', 'future', 'upgrades', 'make', 'the', 'kindle', 'treat', 'sideloaded', 'books', 'just', 'like', 'the', 'ones', 'bought', 'from', 'them', 'directly', 'with', 'sharing', 'funcion', 'quotes', 'and', 'goodreads', 'enabled', 'and', 'so', 'on', 'the', 'size', 'is', 'perfect', 'it', 'sits', 'very', 'well', 'in', 'the', 'hand', 'the', 'light', 'doesn', 'hurt', 'the', 'eyes', 'in', 'the', 'dark', 'like', 'the', 'light', 'on', 'tab', 'does', 'the', 'packaging', 'was', 'fine', 'no', 'problems', 'there', 'and', 'what', 'remains', 'to', 'be', 'seen', 'now', 'is', 'the', 'battery', 'life', 'so', 'far', 'can', 'only', 'recommend', 'it']\n"
     ]
    }
   ],
   "source": [
    "print(data_words[4])"
   ]
  },
  {
   "cell_type": "code",
   "execution_count": 89,
   "metadata": {
    "colab": {
     "base_uri": "https://localhost:8080/"
    },
    "id": "RS3DzCDmki37",
    "outputId": "6d5ee73c-81d0-4587-d375-d71700dd3a42"
   },
   "outputs": [
    {
     "name": "stderr",
     "output_type": "stream",
     "text": [
      "[nltk_data] Downloading package stopwords to /root/nltk_data...\n",
      "[nltk_data]   Package stopwords is already up-to-date!\n"
     ]
    }
   ],
   "source": [
    "# create list of stop words\n",
    "# string.punctuation (from the 'string' module) contains a list of punctuations\n",
    "import nltk\n",
    "nltk.download('stopwords')\n",
    "from nltk.corpus import stopwords\n",
    "stop_words = stopwords.words('english') + list(string.punctuation)"
   ]
  },
  {
   "cell_type": "code",
   "execution_count": 90,
   "metadata": {
    "id": "40CoS2xMnZNw"
   },
   "outputs": [],
   "source": [
    "# Removing stopwords and lemmatization\n",
    "def remove_stopwords(texts):\n",
    "    return [[word for word in simple_preprocess(str(doc)) if word not in stop_words] for doc in texts]\n",
    "\n",
    "def lemmatization(texts, allowed_postags=['NOUN', 'ADJ', 'VERB', 'ADV']):\n",
    "    \n",
    "    texts_out = []\n",
    "    for sent in texts:\n",
    "        doc = nlp(\" \".join(sent)) \n",
    "        texts_out.append([token.lemma_ for token in doc if token.pos_ in allowed_postags])\n",
    "    return texts_out"
   ]
  },
  {
   "cell_type": "code",
   "execution_count": 91,
   "metadata": {
    "id": "4alRGJtosuID"
   },
   "outputs": [],
   "source": [
    "# call functions\n",
    "\n",
    "# remove stop words\n",
    "data_words_nostops = remove_stopwords(data_words)\n",
    "\n",
    "# initialize spacy 'en' model, use only tagger since we don't need parsing or NER \n",
    "# python3 -m spacy download en\n",
    "nlp = spacy.load('en_core_web_sm', disable=['parser', 'ner'])\n",
    "\n",
    "# lemmatization keeping only noun, adj, vb, adv\n",
    "data_lemmatized = lemmatization(data_words_nostops, allowed_postags=['NOUN', 'ADJ'])\n"
   ]
  },
  {
   "cell_type": "code",
   "execution_count": 92,
   "metadata": {
    "colab": {
     "base_uri": "https://localhost:8080/"
    },
    "id": "p3Oof2mRvTOs",
    "outputId": "2e231e3c-88cf-4bb2-d4e0-0cad58bce265"
   },
   "outputs": [
    {
     "name": "stdout",
     "output_type": "stream",
     "text": [
      "['coroporate', 'stuff', 'apple', 'case', 'device', 'happy', 'user', 'nook', 'touch', 'several', 'year', 'functionality', 'live', 'serbia', 'nook', 'device', 'serbia', 'book', 'online', 'capability', 'kindle', 'amazon', 'ship', 'happy', 'amazon', 'customer', 'friend', 'kindle', 'good', 'technology', 'buy', 'many', 'review', 'screen', 'light', 'paperwhite', 'similar', 'device', 'problem', 'mine', 'light', 'fine', 'black', 'blotch', 'picture', 'bottom', 'screen', 'black', 'plastic', 'casing', 'picture', 'light', 'blotch', 'light', 'paperwhite', 'screen', 'marvelous', 'fine', 'store', 'day', 'happy', 'guy', 'book', 'amazon', 'book', 'fine', 'thing', 'amazon', 'future', 'upgrade', 'kindle', 'treat', 'book', 'one', 'funcion', 'quote', 'goodread', 'size', 'perfect', 'hand', 'light', 'eye', 'dark', 'light', 'tab', 'packaging', 'fine', 'problem', 'battery', 'life']\n"
     ]
    }
   ],
   "source": [
    "print(data_lemmatized[4])"
   ]
  },
  {
   "cell_type": "code",
   "execution_count": 93,
   "metadata": {
    "colab": {
     "base_uri": "https://localhost:8080/"
    },
    "id": "Hpk8U9SnxN7_",
    "outputId": "2d5f425e-f196-4463-ea89-253147cb2ad4"
   },
   "outputs": [
    {
     "name": "stdout",
     "output_type": "stream",
     "text": [
      "coroporate stuff apple case device happy user nook touch several year functionality live serbia nook device serbia book online capability kindle amazon ship happy amazon customer friend kindle good technology buy many review screen light paperwhite similar device problem mine light fine black blotch picture bottom screen black plastic casing picture light blotch light paperwhite screen marvelous fine store day happy guy book amazon book fine thing amazon future upgrade kindle treat book one funcion quote goodread size perfect hand light eye dark light tab packaging fine problem battery life\n"
     ]
    }
   ],
   "source": [
    "# After lemmatization\n",
    "print(' '.join(data_lemmatized[4]))"
   ]
  },
  {
   "cell_type": "code",
   "execution_count": 94,
   "metadata": {
    "id": "nvRz2oUs-RL1"
   },
   "outputs": [],
   "source": [
    "# create dictionary and corpus\n",
    "\n",
    "# create dictionary\n",
    "id2word = corpora.Dictionary(data_lemmatized)\n",
    "\n",
    "# Create corpus\n",
    "corpus = [id2word.doc2bow(text) for text in data_lemmatized]"
   ]
  },
  {
   "cell_type": "code",
   "execution_count": 97,
   "metadata": {
    "colab": {
     "base_uri": "https://localhost:8080/"
    },
    "id": "dpYEHRN7Zgk-",
    "outputId": "f64813f5-97cc-4d87-c913-4469066e93b3"
   },
   "outputs": [
    {
     "data": {
      "text/plain": [
       "[[('adjustment', 1),\n",
       "  ('auto', 1),\n",
       "  ('basis', 1),\n",
       "  ('case', 1),\n",
       "  ('certain', 1),\n",
       "  ('change', 1),\n",
       "  ('custom', 1),\n",
       "  ('day', 2),\n",
       "  ('delivery', 1),\n",
       "  ('dollar', 1),\n",
       "  ('easy', 1),\n",
       "  ('expense', 1),\n",
       "  ('extra', 1),\n",
       "  ('fine', 1),\n",
       "  ('friend', 1),\n",
       "  ('glad', 1),\n",
       "  ('great', 1),\n",
       "  ('hard', 1),\n",
       "  ('international', 1),\n",
       "  ('jump', 1),\n",
       "  ('level', 1),\n",
       "  ('light', 3),\n",
       "  ('model', 1),\n",
       "  ('money', 1),\n",
       "  ('need', 1),\n",
       "  ('option', 1),\n",
       "  ('page', 1),\n",
       "  ('paperwhite', 4),\n",
       "  ('party', 1),\n",
       "  ('press', 1),\n",
       "  ('pricey', 1),\n",
       "  ('reading', 1),\n",
       "  ('receptive', 1),\n",
       "  ('regret', 1),\n",
       "  ('review', 1),\n",
       "  ('screen', 1),\n",
       "  ('sensitive', 1),\n",
       "  ('service', 1),\n",
       "  ('setting', 2),\n",
       "  ('shipping', 2),\n",
       "  ('specific', 2),\n",
       "  ('spending', 1),\n",
       "  ('thing', 1),\n",
       "  ('third', 1),\n",
       "  ('time', 3),\n",
       "  ('touch', 1),\n",
       "  ('tracking', 1),\n",
       "  ('trouble', 1),\n",
       "  ('use', 1),\n",
       "  ('voyage', 3),\n",
       "  ('week', 1),\n",
       "  ('worry', 1)]]"
      ]
     },
     "execution_count": 97,
     "metadata": {},
     "output_type": "execute_result"
    }
   ],
   "source": [
    "# Readable format of corpus (term,frequency)\n",
    "[[(id2word[id], freq) for id, freq in cp] for cp in corpus[:1]]"
   ]
  },
  {
   "cell_type": "code",
   "execution_count": 98,
   "metadata": {
    "id": "E3ohS0rYZpEv"
   },
   "outputs": [],
   "source": [
    "# Build LDA model\n",
    "lda_model = gensim.models.ldamodel.LdaModel(corpus=corpus,\n",
    "                                           id2word=id2word,\n",
    "                                           num_topics=6, \n",
    "                                           random_state=100,\n",
    "                                           update_every=1,\n",
    "                                           chunksize=1000,\n",
    "                                           passes=100,\n",
    "                                           alpha=0.1,\n",
    "                                           per_word_topics=True)"
   ]
  },
  {
   "cell_type": "code",
   "execution_count": 100,
   "metadata": {
    "colab": {
     "base_uri": "https://localhost:8080/"
    },
    "id": "hlF6OUKvarhL",
    "outputId": "79cefc50-2316-49ab-cebc-6b471470ae13"
   },
   "outputs": [
    {
     "name": "stdout",
     "output_type": "stream",
     "text": [
      "\n",
      "Coherence Score:  0.339746043452718\n"
     ]
    }
   ],
   "source": [
    "# coherence score\n",
    "coherence_model_lda = CoherenceModel(model=lda_model, texts=data_lemmatized, dictionary=id2word, coherence='c_v')\n",
    "coherence_lda = coherence_model_lda.get_coherence()\n",
    "print('\\nCoherence Score: ', coherence_lda)"
   ]
  },
  {
   "cell_type": "code",
   "execution_count": 99,
   "metadata": {
    "colab": {
     "base_uri": "https://localhost:8080/"
    },
    "id": "gBnyVpeqabHb",
    "outputId": "16960950-ef2a-4fb4-d6ff-2c0435b26683"
   },
   "outputs": [
    {
     "name": "stdout",
     "output_type": "stream",
     "text": [
      "[(0,\n",
      "  '0.030*\"tap\" + 0.027*\"speaker\" + 0.025*\"good\" + 0.024*\"great\" + 0.020*\"dot\" '\n",
      "  '+ 0.019*\"sound\" + 0.017*\"echo\" + 0.015*\"portable\" + 0.013*\"cover\" + '\n",
      "  '0.012*\"quality\"'),\n",
      " (1,\n",
      "  '0.029*\"device\" + 0.023*\"content\" + 0.022*\"use\" + 0.021*\"roku\" + 0.019*\"hdx\" '\n",
      "  '+ 0.015*\"prime\" + 0.015*\"year\" + 0.014*\"video\" + 0.014*\"great\" + '\n",
      "  '0.014*\"box\"'),\n",
      " (2,\n",
      "  '0.027*\"kindle\" + 0.021*\"book\" + 0.019*\"fire\" + 0.016*\"amazon\" + '\n",
      "  '0.015*\"screen\" + 0.012*\"paperwhite\" + 0.011*\"tablet\" + 0.011*\"hdx\" + '\n",
      "  '0.010*\"light\" + 0.010*\"page\"'),\n",
      " (3,\n",
      "  '0.038*\"music\" + 0.023*\"voice\" + 0.020*\"great\" + 0.017*\"time\" + '\n",
      "  '0.017*\"amazon\" + 0.015*\"easy\" + 0.015*\"speaker\" + 0.014*\"phone\" + '\n",
      "  '0.013*\"thing\" + 0.012*\"comcast\"'),\n",
      " (4,\n",
      "  '0.068*\"headphone\" + 0.030*\"apple\" + 0.029*\"ear\" + 0.024*\"bud\" + '\n",
      "  '0.023*\"people\" + 0.020*\"sound\" + 0.019*\"nice\" + 0.018*\"magnet\" + '\n",
      "  '0.015*\"review\" + 0.015*\"year\"'),\n",
      " (5,\n",
      "  '0.035*\"fire\" + 0.022*\"tv\" + 0.021*\"prime\" + 0.018*\"app\" + 0.015*\"amazon\" + '\n",
      "  '0.013*\"new\" + 0.013*\"device\" + 0.012*\"movie\" + 0.012*\"remote\" + '\n",
      "  '0.011*\"game\"')]\n"
     ]
    }
   ],
   "source": [
    "# print the 10 topics\n",
    "pprint.pprint(lda_model.print_topics())\n",
    "doc_lda = lda_model[corpus]"
   ]
  },
  {
   "cell_type": "code",
   "execution_count": 101,
   "metadata": {
    "colab": {
     "base_uri": "https://localhost:8080/"
    },
    "id": "GP2j8RXDaWWE",
    "outputId": "157a3f29-8490-40ad-e720-ff99eabc2df8"
   },
   "outputs": [
    {
     "data": {
      "text/plain": [
       "CountVectorizer(binary=True)"
      ]
     },
     "execution_count": 101,
     "metadata": {},
     "output_type": "execute_result"
    }
   ],
   "source": [
    "from sklearn.feature_extraction.text import CountVectorizer\n",
    "\n",
    "vectorizer = CountVectorizer(binary=True)\n",
    "vectorizer.fit(df['reviews.text'])"
   ]
  },
  {
   "cell_type": "code",
   "execution_count": 102,
   "metadata": {
    "colab": {
     "base_uri": "https://localhost:8080/"
    },
    "id": "0n009M_6gTap",
    "outputId": "3f491cf1-36c2-4365-d4f2-91da530f67e3"
   },
   "outputs": [
    {
     "data": {
      "text/plain": [
       "6469"
      ]
     },
     "execution_count": 102,
     "metadata": {},
     "output_type": "execute_result"
    }
   ],
   "source": [
    "len(vectorizer.vocabulary_)"
   ]
  },
  {
   "cell_type": "code",
   "execution_count": 114,
   "metadata": {
    "id": "MqiHu6L0gbfG"
   },
   "outputs": [],
   "source": [
    "from sklearn.model_selection import train_test_split\n",
    "#x, x_test, y, y_test = train_test_split(df, df['reviews.rating'], stratify=df['reviews.rating'], test_size=0.25, random_state=42)\n",
    "\n",
    "\n",
    "df_train, df_test = train_test_split(df, test_size=0.2, shuffle=True)"
   ]
  },
  {
   "cell_type": "code",
   "execution_count": 127,
   "metadata": {
    "colab": {
     "base_uri": "https://localhost:8080/"
    },
    "id": "eMQYdhRfghvG",
    "outputId": "1c629961-0530-48c3-f539-5a06e9068d77"
   },
   "outputs": [
    {
     "data": {
      "text/plain": [
       "((1277, 6469), (320, 6469))"
      ]
     },
     "execution_count": 127,
     "metadata": {},
     "output_type": "execute_result"
    }
   ],
   "source": [
    "X_train = vectorizer.transform(df_train['reviews.text'])\n",
    "X_test = vectorizer.transform(df_test['reviews.text'])\n",
    "\n",
    "X_train.shape, X_test.shape"
   ]
  },
  {
   "cell_type": "code",
   "execution_count": 126,
   "metadata": {
    "colab": {
     "base_uri": "https://localhost:8080/"
    },
    "id": "OGZTunESjF0K",
    "outputId": "a45bd191-a2a6-46f5-a902-dc8493935e50"
   },
   "outputs": [
    {
     "data": {
      "text/plain": [
       "(1277,)"
      ]
     },
     "execution_count": 126,
     "metadata": {},
     "output_type": "execute_result"
    }
   ],
   "source": [
    "df_train['reviews.rating'].shape"
   ]
  },
  {
   "cell_type": "code",
   "execution_count": 116,
   "metadata": {
    "id": "HMy6NoVOhPHv"
   },
   "outputs": [],
   "source": [
    "from sklearn.naive_bayes import BernoulliNB\n",
    "\n",
    "clf = BernoulliNB().fit(X_train, df_train['reviews.rating'])"
   ]
  },
  {
   "cell_type": "code",
   "execution_count": 117,
   "metadata": {
    "colab": {
     "base_uri": "https://localhost:8080/"
    },
    "id": "h4JQaaTOkMVu",
    "outputId": "597ca800-0203-4cdb-a8f4-88a1a8970cb3"
   },
   "outputs": [
    {
     "data": {
      "text/plain": [
       "array([0.25998434, 0.02584182, 0.02505873, 0.07361002, 0.15113547,\n",
       "       0.46436962])"
      ]
     },
     "execution_count": 117,
     "metadata": {},
     "output_type": "execute_result"
    }
   ],
   "source": [
    "np.exp(clf.class_log_prior_)"
   ]
  },
  {
   "cell_type": "code",
   "execution_count": 118,
   "metadata": {
    "colab": {
     "base_uri": "https://localhost:8080/"
    },
    "id": "xi9FkMoMkgft",
    "outputId": "8d5a5bbe-3b93-4bea-fd3b-ccc0d7586dde"
   },
   "outputs": [
    {
     "name": "stdout",
     "output_type": "stream",
     "text": [
      "              precision    recall  f1-score   support\n",
      "\n",
      "         0.0       0.61      0.67      0.64       332\n",
      "         1.0       1.00      0.03      0.06        33\n",
      "         2.0       0.40      0.12      0.19        32\n",
      "         3.0       0.71      0.39      0.51        94\n",
      "         4.0       0.55      0.20      0.30       193\n",
      "         5.0       0.61      0.81      0.70       593\n",
      "\n",
      "    accuracy                           0.61      1277\n",
      "   macro avg       0.65      0.37      0.40      1277\n",
      "weighted avg       0.61      0.61      0.58      1277\n",
      "\n"
     ]
    }
   ],
   "source": [
    "from sklearn.metrics import classification_report\n",
    "\n",
    "predicts = clf.predict(X_train)\n",
    "print(classification_report(df_train['reviews.rating'], predicts))"
   ]
  },
  {
   "cell_type": "code",
   "execution_count": 128,
   "metadata": {
    "colab": {
     "base_uri": "https://localhost:8080/"
    },
    "id": "8RlFv0PnlsMU",
    "outputId": "e83a6b74-a540-427b-f5a0-ac1d4708339a"
   },
   "outputs": [
    {
     "name": "stdout",
     "output_type": "stream",
     "text": [
      "Fitting 5 folds for each of 48 candidates, totalling 240 fits\n",
      "[CV] END .........................C=0.1, gamma=1, kernel=rbf; total time=   1.6s\n",
      "[CV] END .........................C=0.1, gamma=1, kernel=rbf; total time=   1.5s\n",
      "[CV] END .........................C=0.1, gamma=1, kernel=rbf; total time=   1.5s\n",
      "[CV] END .........................C=0.1, gamma=1, kernel=rbf; total time=   1.5s\n",
      "[CV] END .........................C=0.1, gamma=1, kernel=rbf; total time=   1.5s\n",
      "[CV] END ........................C=0.1, gamma=1, kernel=poly; total time=   1.3s\n",
      "[CV] END ........................C=0.1, gamma=1, kernel=poly; total time=   1.3s\n",
      "[CV] END ........................C=0.1, gamma=1, kernel=poly; total time=   1.3s\n",
      "[CV] END ........................C=0.1, gamma=1, kernel=poly; total time=   1.2s\n",
      "[CV] END ........................C=0.1, gamma=1, kernel=poly; total time=   1.2s\n",
      "[CV] END .....................C=0.1, gamma=1, kernel=sigmoid; total time=   1.2s\n",
      "[CV] END .....................C=0.1, gamma=1, kernel=sigmoid; total time=   1.2s\n",
      "[CV] END .....................C=0.1, gamma=1, kernel=sigmoid; total time=   1.2s\n",
      "[CV] END .....................C=0.1, gamma=1, kernel=sigmoid; total time=   1.2s\n",
      "[CV] END .....................C=0.1, gamma=1, kernel=sigmoid; total time=   1.2s\n",
      "[CV] END .......................C=0.1, gamma=0.1, kernel=rbf; total time=   1.5s\n",
      "[CV] END .......................C=0.1, gamma=0.1, kernel=rbf; total time=   1.5s\n",
      "[CV] END .......................C=0.1, gamma=0.1, kernel=rbf; total time=   1.5s\n",
      "[CV] END .......................C=0.1, gamma=0.1, kernel=rbf; total time=   1.5s\n",
      "[CV] END .......................C=0.1, gamma=0.1, kernel=rbf; total time=   1.5s\n",
      "[CV] END ......................C=0.1, gamma=0.1, kernel=poly; total time=   1.3s\n",
      "[CV] END ......................C=0.1, gamma=0.1, kernel=poly; total time=   1.4s\n",
      "[CV] END ......................C=0.1, gamma=0.1, kernel=poly; total time=   1.3s\n",
      "[CV] END ......................C=0.1, gamma=0.1, kernel=poly; total time=   1.3s\n",
      "[CV] END ......................C=0.1, gamma=0.1, kernel=poly; total time=   1.3s\n",
      "[CV] END ...................C=0.1, gamma=0.1, kernel=sigmoid; total time=   1.2s\n",
      "[CV] END ...................C=0.1, gamma=0.1, kernel=sigmoid; total time=   2.6s\n",
      "[CV] END ...................C=0.1, gamma=0.1, kernel=sigmoid; total time=   3.2s\n",
      "[CV] END ...................C=0.1, gamma=0.1, kernel=sigmoid; total time=   1.2s\n",
      "[CV] END ...................C=0.1, gamma=0.1, kernel=sigmoid; total time=   1.2s\n",
      "[CV] END ......................C=0.1, gamma=0.01, kernel=rbf; total time=   1.4s\n",
      "[CV] END ......................C=0.1, gamma=0.01, kernel=rbf; total time=   1.3s\n",
      "[CV] END ......................C=0.1, gamma=0.01, kernel=rbf; total time=   1.3s\n",
      "[CV] END ......................C=0.1, gamma=0.01, kernel=rbf; total time=   1.4s\n",
      "[CV] END ......................C=0.1, gamma=0.01, kernel=rbf; total time=   1.3s\n",
      "[CV] END .....................C=0.1, gamma=0.01, kernel=poly; total time=   1.3s\n",
      "[CV] END .....................C=0.1, gamma=0.01, kernel=poly; total time=   1.3s\n",
      "[CV] END .....................C=0.1, gamma=0.01, kernel=poly; total time=   1.3s\n",
      "[CV] END .....................C=0.1, gamma=0.01, kernel=poly; total time=   1.3s\n",
      "[CV] END .....................C=0.1, gamma=0.01, kernel=poly; total time=   1.3s\n",
      "[CV] END ..................C=0.1, gamma=0.01, kernel=sigmoid; total time=   1.1s\n",
      "[CV] END ..................C=0.1, gamma=0.01, kernel=sigmoid; total time=   1.1s\n",
      "[CV] END ..................C=0.1, gamma=0.01, kernel=sigmoid; total time=   1.1s\n",
      "[CV] END ..................C=0.1, gamma=0.01, kernel=sigmoid; total time=   1.1s\n",
      "[CV] END ..................C=0.1, gamma=0.01, kernel=sigmoid; total time=   1.1s\n",
      "[CV] END .....................C=0.1, gamma=0.001, kernel=rbf; total time=   1.3s\n",
      "[CV] END .....................C=0.1, gamma=0.001, kernel=rbf; total time=   1.2s\n",
      "[CV] END .....................C=0.1, gamma=0.001, kernel=rbf; total time=   1.2s\n",
      "[CV] END .....................C=0.1, gamma=0.001, kernel=rbf; total time=   1.2s\n",
      "[CV] END .....................C=0.1, gamma=0.001, kernel=rbf; total time=   1.2s\n",
      "[CV] END ....................C=0.1, gamma=0.001, kernel=poly; total time=   1.0s\n",
      "[CV] END ....................C=0.1, gamma=0.001, kernel=poly; total time=   0.9s\n",
      "[CV] END ....................C=0.1, gamma=0.001, kernel=poly; total time=   0.9s\n",
      "[CV] END ....................C=0.1, gamma=0.001, kernel=poly; total time=   0.9s\n",
      "[CV] END ....................C=0.1, gamma=0.001, kernel=poly; total time=   0.9s\n",
      "[CV] END .................C=0.1, gamma=0.001, kernel=sigmoid; total time=   1.2s\n",
      "[CV] END .................C=0.1, gamma=0.001, kernel=sigmoid; total time=   1.2s\n",
      "[CV] END .................C=0.1, gamma=0.001, kernel=sigmoid; total time=   1.2s\n",
      "[CV] END .................C=0.1, gamma=0.001, kernel=sigmoid; total time=   1.2s\n",
      "[CV] END .................C=0.1, gamma=0.001, kernel=sigmoid; total time=   1.2s\n",
      "[CV] END ...........................C=1, gamma=1, kernel=rbf; total time=   1.5s\n",
      "[CV] END ...........................C=1, gamma=1, kernel=rbf; total time=   1.5s\n",
      "[CV] END ...........................C=1, gamma=1, kernel=rbf; total time=   1.4s\n",
      "[CV] END ...........................C=1, gamma=1, kernel=rbf; total time=   1.5s\n",
      "[CV] END ...........................C=1, gamma=1, kernel=rbf; total time=   1.5s\n",
      "[CV] END ..........................C=1, gamma=1, kernel=poly; total time=   1.2s\n",
      "[CV] END ..........................C=1, gamma=1, kernel=poly; total time=   1.2s\n",
      "[CV] END ..........................C=1, gamma=1, kernel=poly; total time=   1.3s\n",
      "[CV] END ..........................C=1, gamma=1, kernel=poly; total time=   1.2s\n",
      "[CV] END ..........................C=1, gamma=1, kernel=poly; total time=   1.2s\n",
      "[CV] END .......................C=1, gamma=1, kernel=sigmoid; total time=   1.2s\n",
      "[CV] END .......................C=1, gamma=1, kernel=sigmoid; total time=   1.2s\n",
      "[CV] END .......................C=1, gamma=1, kernel=sigmoid; total time=   1.1s\n",
      "[CV] END .......................C=1, gamma=1, kernel=sigmoid; total time=   1.2s\n",
      "[CV] END .......................C=1, gamma=1, kernel=sigmoid; total time=   1.1s\n",
      "[CV] END .........................C=1, gamma=0.1, kernel=rbf; total time=   1.5s\n",
      "[CV] END .........................C=1, gamma=0.1, kernel=rbf; total time=   1.4s\n",
      "[CV] END .........................C=1, gamma=0.1, kernel=rbf; total time=   1.4s\n",
      "[CV] END .........................C=1, gamma=0.1, kernel=rbf; total time=   1.4s\n",
      "[CV] END .........................C=1, gamma=0.1, kernel=rbf; total time=   1.4s\n",
      "[CV] END ........................C=1, gamma=0.1, kernel=poly; total time=   1.3s\n",
      "[CV] END ........................C=1, gamma=0.1, kernel=poly; total time=   1.3s\n",
      "[CV] END ........................C=1, gamma=0.1, kernel=poly; total time=   1.3s\n",
      "[CV] END ........................C=1, gamma=0.1, kernel=poly; total time=   1.3s\n",
      "[CV] END ........................C=1, gamma=0.1, kernel=poly; total time=   1.3s\n",
      "[CV] END .....................C=1, gamma=0.1, kernel=sigmoid; total time=   0.7s\n",
      "[CV] END .....................C=1, gamma=0.1, kernel=sigmoid; total time=   0.8s\n",
      "[CV] END .....................C=1, gamma=0.1, kernel=sigmoid; total time=   0.7s\n",
      "[CV] END .....................C=1, gamma=0.1, kernel=sigmoid; total time=   0.7s\n",
      "[CV] END .....................C=1, gamma=0.1, kernel=sigmoid; total time=   0.7s\n",
      "[CV] END ........................C=1, gamma=0.01, kernel=rbf; total time=   1.3s\n",
      "[CV] END ........................C=1, gamma=0.01, kernel=rbf; total time=   1.2s\n",
      "[CV] END ........................C=1, gamma=0.01, kernel=rbf; total time=   1.2s\n",
      "[CV] END ........................C=1, gamma=0.01, kernel=rbf; total time=   1.3s\n",
      "[CV] END ........................C=1, gamma=0.01, kernel=rbf; total time=   1.2s\n",
      "[CV] END .......................C=1, gamma=0.01, kernel=poly; total time=   1.3s\n",
      "[CV] END .......................C=1, gamma=0.01, kernel=poly; total time=   1.3s\n",
      "[CV] END .......................C=1, gamma=0.01, kernel=poly; total time=   1.3s\n",
      "[CV] END .......................C=1, gamma=0.01, kernel=poly; total time=   1.3s\n",
      "[CV] END .......................C=1, gamma=0.01, kernel=poly; total time=   1.3s\n",
      "[CV] END ....................C=1, gamma=0.01, kernel=sigmoid; total time=   0.9s\n",
      "[CV] END ....................C=1, gamma=0.01, kernel=sigmoid; total time=   1.0s\n",
      "[CV] END ....................C=1, gamma=0.01, kernel=sigmoid; total time=   0.9s\n",
      "[CV] END ....................C=1, gamma=0.01, kernel=sigmoid; total time=   0.9s\n",
      "[CV] END ....................C=1, gamma=0.01, kernel=sigmoid; total time=   0.9s\n",
      "[CV] END .......................C=1, gamma=0.001, kernel=rbf; total time=   1.2s\n",
      "[CV] END .......................C=1, gamma=0.001, kernel=rbf; total time=   1.2s\n",
      "[CV] END .......................C=1, gamma=0.001, kernel=rbf; total time=   1.2s\n",
      "[CV] END .......................C=1, gamma=0.001, kernel=rbf; total time=   1.2s\n",
      "[CV] END .......................C=1, gamma=0.001, kernel=rbf; total time=   1.2s\n",
      "[CV] END ......................C=1, gamma=0.001, kernel=poly; total time=   1.1s\n",
      "[CV] END ......................C=1, gamma=0.001, kernel=poly; total time=   1.1s\n",
      "[CV] END ......................C=1, gamma=0.001, kernel=poly; total time=   1.1s\n",
      "[CV] END ......................C=1, gamma=0.001, kernel=poly; total time=   1.1s\n",
      "[CV] END ......................C=1, gamma=0.001, kernel=poly; total time=   1.1s\n",
      "[CV] END ...................C=1, gamma=0.001, kernel=sigmoid; total time=   1.2s\n",
      "[CV] END ...................C=1, gamma=0.001, kernel=sigmoid; total time=   1.2s\n",
      "[CV] END ...................C=1, gamma=0.001, kernel=sigmoid; total time=   1.2s\n",
      "[CV] END ...................C=1, gamma=0.001, kernel=sigmoid; total time=   1.2s\n",
      "[CV] END ...................C=1, gamma=0.001, kernel=sigmoid; total time=   1.2s\n",
      "[CV] END ..........................C=10, gamma=1, kernel=rbf; total time=   1.4s\n",
      "[CV] END ..........................C=10, gamma=1, kernel=rbf; total time=   1.4s\n",
      "[CV] END ..........................C=10, gamma=1, kernel=rbf; total time=   1.4s\n",
      "[CV] END ..........................C=10, gamma=1, kernel=rbf; total time=   1.4s\n",
      "[CV] END ..........................C=10, gamma=1, kernel=rbf; total time=   1.4s\n",
      "[CV] END .........................C=10, gamma=1, kernel=poly; total time=   1.2s\n",
      "[CV] END .........................C=10, gamma=1, kernel=poly; total time=   1.2s\n",
      "[CV] END .........................C=10, gamma=1, kernel=poly; total time=   1.3s\n",
      "[CV] END .........................C=10, gamma=1, kernel=poly; total time=   1.2s\n",
      "[CV] END .........................C=10, gamma=1, kernel=poly; total time=   1.2s\n",
      "[CV] END ......................C=10, gamma=1, kernel=sigmoid; total time=   1.0s\n",
      "[CV] END ......................C=10, gamma=1, kernel=sigmoid; total time=   1.1s\n",
      "[CV] END ......................C=10, gamma=1, kernel=sigmoid; total time=   1.1s\n",
      "[CV] END ......................C=10, gamma=1, kernel=sigmoid; total time=   0.9s\n",
      "[CV] END ......................C=10, gamma=1, kernel=sigmoid; total time=   1.0s\n",
      "[CV] END ........................C=10, gamma=0.1, kernel=rbf; total time=   1.4s\n",
      "[CV] END ........................C=10, gamma=0.1, kernel=rbf; total time=   1.4s\n",
      "[CV] END ........................C=10, gamma=0.1, kernel=rbf; total time=   1.4s\n",
      "[CV] END ........................C=10, gamma=0.1, kernel=rbf; total time=   1.4s\n",
      "[CV] END ........................C=10, gamma=0.1, kernel=rbf; total time=   1.4s\n",
      "[CV] END .......................C=10, gamma=0.1, kernel=poly; total time=   1.3s\n",
      "[CV] END .......................C=10, gamma=0.1, kernel=poly; total time=   1.4s\n",
      "[CV] END .......................C=10, gamma=0.1, kernel=poly; total time=   1.3s\n",
      "[CV] END .......................C=10, gamma=0.1, kernel=poly; total time=   1.3s\n",
      "[CV] END .......................C=10, gamma=0.1, kernel=poly; total time=   1.4s\n",
      "[CV] END ....................C=10, gamma=0.1, kernel=sigmoid; total time=   0.7s\n",
      "[CV] END ....................C=10, gamma=0.1, kernel=sigmoid; total time=   0.7s\n",
      "[CV] END ....................C=10, gamma=0.1, kernel=sigmoid; total time=   0.7s\n",
      "[CV] END ....................C=10, gamma=0.1, kernel=sigmoid; total time=   0.7s\n",
      "[CV] END ....................C=10, gamma=0.1, kernel=sigmoid; total time=   0.6s\n",
      "[CV] END .......................C=10, gamma=0.01, kernel=rbf; total time=   1.3s\n",
      "[CV] END .......................C=10, gamma=0.01, kernel=rbf; total time=   1.2s\n",
      "[CV] END .......................C=10, gamma=0.01, kernel=rbf; total time=   1.2s\n",
      "[CV] END .......................C=10, gamma=0.01, kernel=rbf; total time=   1.2s\n",
      "[CV] END .......................C=10, gamma=0.01, kernel=rbf; total time=   1.3s\n",
      "[CV] END ......................C=10, gamma=0.01, kernel=poly; total time=   1.4s\n",
      "[CV] END ......................C=10, gamma=0.01, kernel=poly; total time=   1.3s\n",
      "[CV] END ......................C=10, gamma=0.01, kernel=poly; total time=   1.3s\n",
      "[CV] END ......................C=10, gamma=0.01, kernel=poly; total time=   1.3s\n",
      "[CV] END ......................C=10, gamma=0.01, kernel=poly; total time=   1.3s\n",
      "[CV] END ...................C=10, gamma=0.01, kernel=sigmoid; total time=   0.8s\n",
      "[CV] END ...................C=10, gamma=0.01, kernel=sigmoid; total time=   0.9s\n",
      "[CV] END ...................C=10, gamma=0.01, kernel=sigmoid; total time=   0.8s\n",
      "[CV] END ...................C=10, gamma=0.01, kernel=sigmoid; total time=   0.8s\n",
      "[CV] END ...................C=10, gamma=0.01, kernel=sigmoid; total time=   0.8s\n",
      "[CV] END ......................C=10, gamma=0.001, kernel=rbf; total time=   1.1s\n",
      "[CV] END ......................C=10, gamma=0.001, kernel=rbf; total time=   1.1s\n",
      "[CV] END ......................C=10, gamma=0.001, kernel=rbf; total time=   1.1s\n",
      "[CV] END ......................C=10, gamma=0.001, kernel=rbf; total time=   1.1s\n",
      "[CV] END ......................C=10, gamma=0.001, kernel=rbf; total time=   1.1s\n",
      "[CV] END .....................C=10, gamma=0.001, kernel=poly; total time=   1.3s\n",
      "[CV] END .....................C=10, gamma=0.001, kernel=poly; total time=   1.3s\n",
      "[CV] END .....................C=10, gamma=0.001, kernel=poly; total time=   1.5s\n",
      "[CV] END .....................C=10, gamma=0.001, kernel=poly; total time=   1.6s\n",
      "[CV] END .....................C=10, gamma=0.001, kernel=poly; total time=   1.3s\n",
      "[CV] END ..................C=10, gamma=0.001, kernel=sigmoid; total time=   1.0s\n",
      "[CV] END ..................C=10, gamma=0.001, kernel=sigmoid; total time=   1.0s\n",
      "[CV] END ..................C=10, gamma=0.001, kernel=sigmoid; total time=   1.0s\n",
      "[CV] END ..................C=10, gamma=0.001, kernel=sigmoid; total time=   1.0s\n",
      "[CV] END ..................C=10, gamma=0.001, kernel=sigmoid; total time=   1.0s\n",
      "[CV] END .........................C=100, gamma=1, kernel=rbf; total time=   1.4s\n",
      "[CV] END .........................C=100, gamma=1, kernel=rbf; total time=   1.4s\n",
      "[CV] END .........................C=100, gamma=1, kernel=rbf; total time=   1.4s\n",
      "[CV] END .........................C=100, gamma=1, kernel=rbf; total time=   1.4s\n",
      "[CV] END .........................C=100, gamma=1, kernel=rbf; total time=   1.4s\n",
      "[CV] END ........................C=100, gamma=1, kernel=poly; total time=   1.2s\n",
      "[CV] END ........................C=100, gamma=1, kernel=poly; total time=   1.2s\n",
      "[CV] END ........................C=100, gamma=1, kernel=poly; total time=   1.3s\n",
      "[CV] END ........................C=100, gamma=1, kernel=poly; total time=   1.2s\n",
      "[CV] END ........................C=100, gamma=1, kernel=poly; total time=   1.2s\n",
      "[CV] END .....................C=100, gamma=1, kernel=sigmoid; total time=   1.0s\n",
      "[CV] END .....................C=100, gamma=1, kernel=sigmoid; total time=   1.1s\n",
      "[CV] END .....................C=100, gamma=1, kernel=sigmoid; total time=   1.0s\n",
      "[CV] END .....................C=100, gamma=1, kernel=sigmoid; total time=   0.9s\n",
      "[CV] END .....................C=100, gamma=1, kernel=sigmoid; total time=   0.9s\n",
      "[CV] END .......................C=100, gamma=0.1, kernel=rbf; total time=   1.4s\n",
      "[CV] END .......................C=100, gamma=0.1, kernel=rbf; total time=   1.4s\n",
      "[CV] END .......................C=100, gamma=0.1, kernel=rbf; total time=   1.4s\n",
      "[CV] END .......................C=100, gamma=0.1, kernel=rbf; total time=   1.4s\n",
      "[CV] END .......................C=100, gamma=0.1, kernel=rbf; total time=   1.4s\n",
      "[CV] END ......................C=100, gamma=0.1, kernel=poly; total time=   1.3s\n",
      "[CV] END ......................C=100, gamma=0.1, kernel=poly; total time=   1.2s\n",
      "[CV] END ......................C=100, gamma=0.1, kernel=poly; total time=   1.3s\n",
      "[CV] END ......................C=100, gamma=0.1, kernel=poly; total time=   1.2s\n",
      "[CV] END ......................C=100, gamma=0.1, kernel=poly; total time=   1.3s\n",
      "[CV] END ...................C=100, gamma=0.1, kernel=sigmoid; total time=   0.6s\n",
      "[CV] END ...................C=100, gamma=0.1, kernel=sigmoid; total time=   0.7s\n",
      "[CV] END ...................C=100, gamma=0.1, kernel=sigmoid; total time=   0.7s\n",
      "[CV] END ...................C=100, gamma=0.1, kernel=sigmoid; total time=   0.7s\n",
      "[CV] END ...................C=100, gamma=0.1, kernel=sigmoid; total time=   0.6s\n",
      "[CV] END ......................C=100, gamma=0.01, kernel=rbf; total time=   1.3s\n",
      "[CV] END ......................C=100, gamma=0.01, kernel=rbf; total time=   1.2s\n",
      "[CV] END ......................C=100, gamma=0.01, kernel=rbf; total time=   1.2s\n",
      "[CV] END ......................C=100, gamma=0.01, kernel=rbf; total time=   1.2s\n",
      "[CV] END ......................C=100, gamma=0.01, kernel=rbf; total time=   1.2s\n",
      "[CV] END .....................C=100, gamma=0.01, kernel=poly; total time=   1.3s\n",
      "[CV] END .....................C=100, gamma=0.01, kernel=poly; total time=   1.4s\n",
      "[CV] END .....................C=100, gamma=0.01, kernel=poly; total time=   1.3s\n",
      "[CV] END .....................C=100, gamma=0.01, kernel=poly; total time=   1.4s\n",
      "[CV] END .....................C=100, gamma=0.01, kernel=poly; total time=   1.3s\n",
      "[CV] END ..................C=100, gamma=0.01, kernel=sigmoid; total time=   0.7s\n",
      "[CV] END ..................C=100, gamma=0.01, kernel=sigmoid; total time=   0.8s\n",
      "[CV] END ..................C=100, gamma=0.01, kernel=sigmoid; total time=   0.6s\n",
      "[CV] END ..................C=100, gamma=0.01, kernel=sigmoid; total time=   0.6s\n",
      "[CV] END ..................C=100, gamma=0.01, kernel=sigmoid; total time=   0.6s\n",
      "[CV] END .....................C=100, gamma=0.001, kernel=rbf; total time=   1.0s\n",
      "[CV] END .....................C=100, gamma=0.001, kernel=rbf; total time=   1.0s\n",
      "[CV] END .....................C=100, gamma=0.001, kernel=rbf; total time=   1.0s\n",
      "[CV] END .....................C=100, gamma=0.001, kernel=rbf; total time=   1.0s\n",
      "[CV] END .....................C=100, gamma=0.001, kernel=rbf; total time=   1.0s\n",
      "[CV] END ....................C=100, gamma=0.001, kernel=poly; total time=   1.3s\n",
      "[CV] END ....................C=100, gamma=0.001, kernel=poly; total time=   1.3s\n",
      "[CV] END ....................C=100, gamma=0.001, kernel=poly; total time=   1.3s\n",
      "[CV] END ....................C=100, gamma=0.001, kernel=poly; total time=   1.6s\n",
      "[CV] END ....................C=100, gamma=0.001, kernel=poly; total time=   2.1s\n",
      "[CV] END .................C=100, gamma=0.001, kernel=sigmoid; total time=   1.0s\n",
      "[CV] END .................C=100, gamma=0.001, kernel=sigmoid; total time=   1.0s\n",
      "[CV] END .................C=100, gamma=0.001, kernel=sigmoid; total time=   0.9s\n",
      "[CV] END .................C=100, gamma=0.001, kernel=sigmoid; total time=   0.9s\n",
      "[CV] END .................C=100, gamma=0.001, kernel=sigmoid; total time=   1.0s\n"
     ]
    },
    {
     "data": {
      "text/plain": [
       "GridSearchCV(estimator=SVC(),\n",
       "             param_grid={'C': [0.1, 1, 10, 100], 'gamma': [1, 0.1, 0.01, 0.001],\n",
       "                         'kernel': ['rbf', 'poly', 'sigmoid']},\n",
       "             verbose=2)"
      ]
     },
     "execution_count": 128,
     "metadata": {},
     "output_type": "execute_result"
    }
   ],
   "source": [
    "from sklearn.svm import SVC\n",
    "\n",
    "param_grid = {'C': [0.1,1, 10, 100], 'gamma': [1,0.1,0.01,0.001],'kernel': ['rbf', 'poly', 'sigmoid']}\n",
    "from sklearn.model_selection import GridSearchCV\n",
    "grid = GridSearchCV(SVC(),param_grid,refit=True,verbose=2)\n",
    "grid.fit(X_train,df_train['reviews.rating'])"
   ]
  },
  {
   "cell_type": "code",
   "execution_count": 129,
   "metadata": {
    "colab": {
     "base_uri": "https://localhost:8080/"
    },
    "id": "uwXzk2bhmY-p",
    "outputId": "ed2eb078-2f24-4866-efcb-88d60d39c942"
   },
   "outputs": [
    {
     "name": "stdout",
     "output_type": "stream",
     "text": [
      "[[ 53   0   0   6   1  28]\n",
      " [  2   0   0   0   0   7]\n",
      " [  0   0   0   0   0   2]\n",
      " [  6   0   0  11   0  13]\n",
      " [  8   0   0   0   0  35]\n",
      " [ 27   0   0   0   0 121]]\n",
      "              precision    recall  f1-score   support\n",
      "\n",
      "         0.0       0.55      0.60      0.58        88\n",
      "         1.0       0.00      0.00      0.00         9\n",
      "         2.0       0.00      0.00      0.00         2\n",
      "         3.0       0.65      0.37      0.47        30\n",
      "         4.0       0.00      0.00      0.00        43\n",
      "         5.0       0.59      0.82      0.68       148\n",
      "\n",
      "    accuracy                           0.58       320\n",
      "   macro avg       0.30      0.30      0.29       320\n",
      "weighted avg       0.48      0.58      0.52       320\n",
      "\n"
     ]
    },
    {
     "name": "stderr",
     "output_type": "stream",
     "text": [
      "/usr/local/lib/python3.7/dist-packages/sklearn/metrics/_classification.py:1318: UndefinedMetricWarning: Precision and F-score are ill-defined and being set to 0.0 in labels with no predicted samples. Use `zero_division` parameter to control this behavior.\n",
      "  _warn_prf(average, modifier, msg_start, len(result))\n",
      "/usr/local/lib/python3.7/dist-packages/sklearn/metrics/_classification.py:1318: UndefinedMetricWarning: Precision and F-score are ill-defined and being set to 0.0 in labels with no predicted samples. Use `zero_division` parameter to control this behavior.\n",
      "  _warn_prf(average, modifier, msg_start, len(result))\n",
      "/usr/local/lib/python3.7/dist-packages/sklearn/metrics/_classification.py:1318: UndefinedMetricWarning: Precision and F-score are ill-defined and being set to 0.0 in labels with no predicted samples. Use `zero_division` parameter to control this behavior.\n",
      "  _warn_prf(average, modifier, msg_start, len(result))\n"
     ]
    }
   ],
   "source": [
    "from sklearn.metrics import classification_report, confusion_matrix \n",
    "grid_predictions = grid.predict(X_test)\n",
    "print(confusion_matrix(df_test['reviews.rating'],grid_predictions))\n",
    "print(classification_report(df_test['reviews.rating'],grid_predictions))"
   ]
  },
  {
   "cell_type": "code",
   "execution_count": null,
   "metadata": {
    "id": "Pr9JgYVUlog6"
   },
   "outputs": [],
   "source": []
  },
  {
   "cell_type": "code",
   "execution_count": 108,
   "metadata": {
    "colab": {
     "base_uri": "https://localhost:8080/",
     "height": 300
    },
    "id": "Ow673FeoHnmO",
    "outputId": "7f76661c-6d19-4744-8595-08f54274ed2d"
   },
   "outputs": [
    {
     "data": {
      "text/html": [
       "\n",
       "  <div id=\"df-863b9f43-9bf6-44a0-b9bb-28eadea4acf4\">\n",
       "    <div class=\"colab-df-container\">\n",
       "      <div>\n",
       "<style scoped>\n",
       "    .dataframe tbody tr th:only-of-type {\n",
       "        vertical-align: middle;\n",
       "    }\n",
       "\n",
       "    .dataframe tbody tr th {\n",
       "        vertical-align: top;\n",
       "    }\n",
       "\n",
       "    .dataframe thead th {\n",
       "        text-align: right;\n",
       "    }\n",
       "</style>\n",
       "<table border=\"1\" class=\"dataframe\">\n",
       "  <thead>\n",
       "    <tr style=\"text-align: right;\">\n",
       "      <th></th>\n",
       "      <th>ean</th>\n",
       "      <th>reviews.numHelpful</th>\n",
       "      <th>reviews.rating</th>\n",
       "      <th>reviews.userCity</th>\n",
       "      <th>reviews.userProvince</th>\n",
       "      <th>sizes</th>\n",
       "      <th>upc</th>\n",
       "    </tr>\n",
       "  </thead>\n",
       "  <tbody>\n",
       "    <tr>\n",
       "      <th>count</th>\n",
       "      <td>8.980000e+02</td>\n",
       "      <td>900.000000</td>\n",
       "      <td>1597.000000</td>\n",
       "      <td>0.0</td>\n",
       "      <td>0.0</td>\n",
       "      <td>0.0</td>\n",
       "      <td>8.980000e+02</td>\n",
       "    </tr>\n",
       "    <tr>\n",
       "      <th>mean</th>\n",
       "      <td>8.446269e+11</td>\n",
       "      <td>83.584444</td>\n",
       "      <td>3.212899</td>\n",
       "      <td>NaN</td>\n",
       "      <td>NaN</td>\n",
       "      <td>NaN</td>\n",
       "      <td>8.446269e+11</td>\n",
       "    </tr>\n",
       "    <tr>\n",
       "      <th>std</th>\n",
       "      <td>3.391252e+09</td>\n",
       "      <td>197.150238</td>\n",
       "      <td>2.110603</td>\n",
       "      <td>NaN</td>\n",
       "      <td>NaN</td>\n",
       "      <td>NaN</td>\n",
       "      <td>3.391252e+09</td>\n",
       "    </tr>\n",
       "    <tr>\n",
       "      <th>min</th>\n",
       "      <td>8.420000e+11</td>\n",
       "      <td>0.000000</td>\n",
       "      <td>0.000000</td>\n",
       "      <td>NaN</td>\n",
       "      <td>NaN</td>\n",
       "      <td>NaN</td>\n",
       "      <td>8.420000e+11</td>\n",
       "    </tr>\n",
       "    <tr>\n",
       "      <th>25%</th>\n",
       "      <td>8.420000e+11</td>\n",
       "      <td>0.000000</td>\n",
       "      <td>0.000000</td>\n",
       "      <td>NaN</td>\n",
       "      <td>NaN</td>\n",
       "      <td>NaN</td>\n",
       "      <td>8.420000e+11</td>\n",
       "    </tr>\n",
       "    <tr>\n",
       "      <th>50%</th>\n",
       "      <td>8.420000e+11</td>\n",
       "      <td>0.000000</td>\n",
       "      <td>4.000000</td>\n",
       "      <td>NaN</td>\n",
       "      <td>NaN</td>\n",
       "      <td>NaN</td>\n",
       "      <td>8.420000e+11</td>\n",
       "    </tr>\n",
       "    <tr>\n",
       "      <th>75%</th>\n",
       "      <td>8.490000e+11</td>\n",
       "      <td>34.000000</td>\n",
       "      <td>5.000000</td>\n",
       "      <td>NaN</td>\n",
       "      <td>NaN</td>\n",
       "      <td>NaN</td>\n",
       "      <td>8.490000e+11</td>\n",
       "    </tr>\n",
       "    <tr>\n",
       "      <th>max</th>\n",
       "      <td>8.490000e+11</td>\n",
       "      <td>997.000000</td>\n",
       "      <td>5.000000</td>\n",
       "      <td>NaN</td>\n",
       "      <td>NaN</td>\n",
       "      <td>NaN</td>\n",
       "      <td>8.490000e+11</td>\n",
       "    </tr>\n",
       "  </tbody>\n",
       "</table>\n",
       "</div>\n",
       "      <button class=\"colab-df-convert\" onclick=\"convertToInteractive('df-863b9f43-9bf6-44a0-b9bb-28eadea4acf4')\"\n",
       "              title=\"Convert this dataframe to an interactive table.\"\n",
       "              style=\"display:none;\">\n",
       "        \n",
       "  <svg xmlns=\"http://www.w3.org/2000/svg\" height=\"24px\"viewBox=\"0 0 24 24\"\n",
       "       width=\"24px\">\n",
       "    <path d=\"M0 0h24v24H0V0z\" fill=\"none\"/>\n",
       "    <path d=\"M18.56 5.44l.94 2.06.94-2.06 2.06-.94-2.06-.94-.94-2.06-.94 2.06-2.06.94zm-11 1L8.5 8.5l.94-2.06 2.06-.94-2.06-.94L8.5 2.5l-.94 2.06-2.06.94zm10 10l.94 2.06.94-2.06 2.06-.94-2.06-.94-.94-2.06-.94 2.06-2.06.94z\"/><path d=\"M17.41 7.96l-1.37-1.37c-.4-.4-.92-.59-1.43-.59-.52 0-1.04.2-1.43.59L10.3 9.45l-7.72 7.72c-.78.78-.78 2.05 0 2.83L4 21.41c.39.39.9.59 1.41.59.51 0 1.02-.2 1.41-.59l7.78-7.78 2.81-2.81c.8-.78.8-2.07 0-2.86zM5.41 20L4 18.59l7.72-7.72 1.47 1.35L5.41 20z\"/>\n",
       "  </svg>\n",
       "      </button>\n",
       "      \n",
       "  <style>\n",
       "    .colab-df-container {\n",
       "      display:flex;\n",
       "      flex-wrap:wrap;\n",
       "      gap: 12px;\n",
       "    }\n",
       "\n",
       "    .colab-df-convert {\n",
       "      background-color: #E8F0FE;\n",
       "      border: none;\n",
       "      border-radius: 50%;\n",
       "      cursor: pointer;\n",
       "      display: none;\n",
       "      fill: #1967D2;\n",
       "      height: 32px;\n",
       "      padding: 0 0 0 0;\n",
       "      width: 32px;\n",
       "    }\n",
       "\n",
       "    .colab-df-convert:hover {\n",
       "      background-color: #E2EBFA;\n",
       "      box-shadow: 0px 1px 2px rgba(60, 64, 67, 0.3), 0px 1px 3px 1px rgba(60, 64, 67, 0.15);\n",
       "      fill: #174EA6;\n",
       "    }\n",
       "\n",
       "    [theme=dark] .colab-df-convert {\n",
       "      background-color: #3B4455;\n",
       "      fill: #D2E3FC;\n",
       "    }\n",
       "\n",
       "    [theme=dark] .colab-df-convert:hover {\n",
       "      background-color: #434B5C;\n",
       "      box-shadow: 0px 1px 3px 1px rgba(0, 0, 0, 0.15);\n",
       "      filter: drop-shadow(0px 1px 2px rgba(0, 0, 0, 0.3));\n",
       "      fill: #FFFFFF;\n",
       "    }\n",
       "  </style>\n",
       "\n",
       "      <script>\n",
       "        const buttonEl =\n",
       "          document.querySelector('#df-863b9f43-9bf6-44a0-b9bb-28eadea4acf4 button.colab-df-convert');\n",
       "        buttonEl.style.display =\n",
       "          google.colab.kernel.accessAllowed ? 'block' : 'none';\n",
       "\n",
       "        async function convertToInteractive(key) {\n",
       "          const element = document.querySelector('#df-863b9f43-9bf6-44a0-b9bb-28eadea4acf4');\n",
       "          const dataTable =\n",
       "            await google.colab.kernel.invokeFunction('convertToInteractive',\n",
       "                                                     [key], {});\n",
       "          if (!dataTable) return;\n",
       "\n",
       "          const docLinkHtml = 'Like what you see? Visit the ' +\n",
       "            '<a target=\"_blank\" href=https://colab.research.google.com/notebooks/data_table.ipynb>data table notebook</a>'\n",
       "            + ' to learn more about interactive tables.';\n",
       "          element.innerHTML = '';\n",
       "          dataTable['output_type'] = 'display_data';\n",
       "          await google.colab.output.renderOutput(dataTable, element);\n",
       "          const docLink = document.createElement('div');\n",
       "          docLink.innerHTML = docLinkHtml;\n",
       "          element.appendChild(docLink);\n",
       "        }\n",
       "      </script>\n",
       "    </div>\n",
       "  </div>\n",
       "  "
      ],
      "text/plain": [
       "                ean  reviews.numHelpful  reviews.rating  reviews.userCity  \\\n",
       "count  8.980000e+02          900.000000     1597.000000               0.0   \n",
       "mean   8.446269e+11           83.584444        3.212899               NaN   \n",
       "std    3.391252e+09          197.150238        2.110603               NaN   \n",
       "min    8.420000e+11            0.000000        0.000000               NaN   \n",
       "25%    8.420000e+11            0.000000        0.000000               NaN   \n",
       "50%    8.420000e+11            0.000000        4.000000               NaN   \n",
       "75%    8.490000e+11           34.000000        5.000000               NaN   \n",
       "max    8.490000e+11          997.000000        5.000000               NaN   \n",
       "\n",
       "       reviews.userProvince  sizes           upc  \n",
       "count                   0.0    0.0  8.980000e+02  \n",
       "mean                    NaN    NaN  8.446269e+11  \n",
       "std                     NaN    NaN  3.391252e+09  \n",
       "min                     NaN    NaN  8.420000e+11  \n",
       "25%                     NaN    NaN  8.420000e+11  \n",
       "50%                     NaN    NaN  8.420000e+11  \n",
       "75%                     NaN    NaN  8.490000e+11  \n",
       "max                     NaN    NaN  8.490000e+11  "
      ]
     },
     "execution_count": 108,
     "metadata": {},
     "output_type": "execute_result"
    }
   ],
   "source": [
    "df.describe()"
   ]
  }
 ],
 "metadata": {
  "colab": {
   "provenance": []
  },
  "kernelspec": {
   "display_name": "Python 3",
   "language": "python",
   "name": "python3"
  },
  "language_info": {
   "codemirror_mode": {
    "name": "ipython",
    "version": 3
   },
   "file_extension": ".py",
   "mimetype": "text/x-python",
   "name": "python",
   "nbconvert_exporter": "python",
   "pygments_lexer": "ipython3",
   "version": "3.7.3"
  }
 },
 "nbformat": 4,
 "nbformat_minor": 1
}
